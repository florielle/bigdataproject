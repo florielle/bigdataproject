{
 "cells": [
  {
   "cell_type": "code",
   "execution_count": null,
   "metadata": {
    "collapsed": false
   },
   "outputs": [],
   "source": [
    "from datetime import datetime, timedelta\n",
    "import urllib\n",
    "import os\n",
    "import io\n",
    "\n",
    "\n",
    "def scrape_station(station):\n",
    "    current_date = datetime(year=2006, month=1, day=1)\n",
    "    end_date = datetime(year=2016, month=1, day=1)\n",
    "\n",
    "    # Make sure a directory exists for the station web pages\n",
    "    if not os.path.isdir('./%s' % (station)):\n",
    "        os.mkdir(station)\n",
    "\n",
    "    # Use .format(station, YYYY, M, D)\n",
    "    lookup_URL = 'http://www.wunderground.com/history/airport/{}/{}/{}/{}/DailyHistory.html'\n",
    "\n",
    "    while current_date != end_date:\n",
    "\n",
    "        if current_date.day == 1:\n",
    "            print(current_date)\n",
    "\n",
    "        formatted_lookup_URL = lookup_URL.format(station,\n",
    "                                                 current_date.year,\n",
    "                                                 current_date.month,\n",
    "                                                 current_date.day)\n",
    "        html = urllib.urlopen(formatted_lookup_URL).read()\n",
    "\n",
    "        out_file_name = '{}/{}-{}-{}.html'.format(station, current_date.year,\n",
    "                                                  current_date.month,\n",
    "                                                  current_date.day)\n",
    "\n",
    "        with open(out_file_name,'w') as out_file:\n",
    "            out_file.write(html)\n",
    "\n",
    "        current_date += timedelta(days=1)\n",
    "\n",
    "for station in ['KNYC']:\n",
    "    scrape_station(station)"
   ]
  },
  {
   "cell_type": "code",
   "execution_count": null,
   "metadata": {
    "collapsed": false
   },
   "outputs": [],
   "source": [
    "from bs4 import BeautifulSoup\n",
    "def parse_station(station, outfile):\n",
    "    current_date = datetime(year=2006, month=1, day=1)\n",
    "    end_date = datetime(year=2016, month=1, day=1)\n",
    "\n",
    "    with open(outfile, 'a') as out_file:\n",
    "    \n",
    "        while current_date != end_date:\n",
    "            with open('{}/{}-{}-{}.html'.format(station,\n",
    "                                                current_date.year,\n",
    "                                                current_date.month,\n",
    "                                                current_date.day)) as in_file:\n",
    "                soup = BeautifulSoup(in_file.read(), 'html.parser')\n",
    "\n",
    "                try:\n",
    "                    rows = soup.find(id='obsTable').find_all('tr', class_='no-metars')\n",
    "                    for tr in rows:\n",
    "                        cols = tr.findAll('td')\n",
    "                        data = [c.text.replace('\\n', '').replace('\\t', '') for c in cols]\n",
    "                        \n",
    "                        if len(data) < 13:\n",
    "                            data.insert(2, u'  -')        \n",
    "                        \n",
    "                        out_row = [station, '{}-{}-{}'.format(current_date.year, current_date.month, current_date.day)] + data\n",
    "                        out_file.write('\\t'.join(out_row).replace(u'\\xa0', u' ').replace(u'\\xb0', u'').encode('utf-8'))\n",
    "                        out_file.write('\\n')\n",
    "                        \n",
    "                except:\n",
    "                    print \"No history available for %s on %s\" % (station, current_date)\n",
    "\n",
    "                if current_date.day == 1:\n",
    "                    print(current_date)\n",
    "                    \n",
    "                current_date += timedelta(days=1)"
   ]
  },
  {
   "cell_type": "code",
   "execution_count": null,
   "metadata": {
    "collapsed": true
   },
   "outputs": [],
   "source": [
    "with open('wunderground_weather.tsv', 'w') as out_file:\n",
    "    out_file.write('station,date,time,temperature,heat_index,dew_point,humidity,pressure,visibility,'\n",
    "                    'wind_dir,wind_speed,gust_speed,precip,events,conditions\\n'.replace(',', '\\t'))"
   ]
  },
  {
   "cell_type": "code",
   "execution_count": null,
   "metadata": {
    "collapsed": false
   },
   "outputs": [],
   "source": [
    "for station in ['KNYC']:\n",
    "    print \"Starting %s:\" % (station)\n",
    "    parse_station(station, 'wunderground_weather.tsv')\n",
    "    \n",
    "print \"Done!\""
   ]
  },
  {
   "cell_type": "code",
   "execution_count": null,
   "metadata": {
    "collapsed": true
   },
   "outputs": [],
   "source": []
  }
 ],
 "metadata": {
  "kernelspec": {
   "display_name": "Python [py27]",
   "language": "python",
   "name": "Python [py27]"
  },
  "language_info": {
   "codemirror_mode": {
    "name": "ipython",
    "version": 2
   },
   "file_extension": ".py",
   "mimetype": "text/x-python",
   "name": "python",
   "nbconvert_exporter": "python",
   "pygments_lexer": "ipython2",
   "version": "2.7.12"
  }
 },
 "nbformat": 4,
 "nbformat_minor": 0
}
